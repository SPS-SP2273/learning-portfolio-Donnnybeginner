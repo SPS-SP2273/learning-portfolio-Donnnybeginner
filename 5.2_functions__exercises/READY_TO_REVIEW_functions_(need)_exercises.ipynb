{
 "cells": [
  {
   "attachments": {},
   "cell_type": "markdown",
   "id": "123456",
   "metadata": {},
   "source": [
    "<div style=\"text-align:left;font-size:2em\"><span style=\"font-weight:bolder;font-size:1.25em\">SP2273 | Learning Portfolio</span><br><br><span style=\"font-weight:bold;color:darkred\">Functions (Need) Exercises</span></div>"
   ]
  },
  {
   "cell_type": "markdown",
   "id": "31eb5ade",
   "metadata": {},
   "source": [
    "# Exercise 1"
   ]
  },
  {
   "cell_type": "code",
   "execution_count": null,
   "id": "0b1732a1",
   "metadata": {},
   "outputs": [],
   "source": [
    "def greeting(name):\n",
    "    if name == 'Batman':\n",
    "        return 'Hello Batman! So, nice to meet you!'\n",
    "    return f'Hello {name}!'"
   ]
  },
  {
   "cell_type": "markdown",
   "id": "6b8b450e",
   "metadata": {},
   "source": [
    "The code above still works because if the condition in the if statement is met, the first return statement is excuted and Python exits the function without executing the second return statement. If the condition is not met, the first return statement is skipped and the second return statement is executed."
   ]
  },
  {
   "cell_type": "markdown",
   "id": "29849bbc",
   "metadata": {},
   "source": [
    "# Exercise 2"
   ]
  },
  {
   "cell_type": "code",
   "execution_count": null,
   "id": "bce1a621",
   "metadata": {},
   "outputs": [
    {
     "name": "stdout",
     "output_type": "stream",
     "text": [
      "Normal weight\n"
     ]
    }
   ],
   "source": [
    "def calculate_bmi(weight, height):\n",
    "    bmi = weight / (height ** 2)\n",
    "    if bmi < 18.5:\n",
    "        return \"Underweight\"\n",
    "    elif 18.5 <= bmi <= 24.9:\n",
    "        return \"Normal weight\"\n",
    "    elif 25 <= bmi <= 29.9:\n",
    "        return \"Overweight\"\n",
    "    else:\n",
    "        return \"Obese\""
   ]
  },
  {
   "cell_type": "markdown",
   "id": "f10922b0",
   "metadata": {},
   "source": [
    "# Exercise 3"
   ]
  },
  {
   "cell_type": "code",
   "execution_count": 7,
   "id": "6502c5ba",
   "metadata": {},
   "outputs": [
    {
     "name": "stdout",
     "output_type": "stream",
     "text": [
      "Error, cannot compute factorial of negative numbers\n"
     ]
    }
   ],
   "source": [
    "def factorial(n):\n",
    "    if n < 0:\n",
    "        return \"Error, cannot compute factorial of negative numbers\"\n",
    "    elif n == 0:\n",
    "        return 1\n",
    "    return n * factorial(n-1)\n",
    "\n",
    "print(factorial(-100))"
   ]
  },
  {
   "cell_type": "markdown",
   "id": "e58622b4",
   "metadata": {},
   "source": [
    "For any given number n, n! can be obtained by taking n * (n-1)!, with the exception of n=0. Therefore, for any number(other than 0 and negative numbers), we can take n! = n * (n-1)! = n * (n-1) * (n-2)! = ... until 0! is reached. As such, I decided to use a recursive function. The factorial functions aims to return the factorial of the number it is given. In other words, the function returns the number(n) itself multiplied by the factorial of n-1. The base case is when n is 0, with the function returning 1 in this case. When the function reaches 0, it stops calling itself and returns a value that gets \"passed up\" until the factorial of n is returned.\n",
    "For example, when factorial(3) is called, the function will return 3 * factorial(2). When factorial(2) is called, it returns 2 * factorial(1). When factorial(1) is called, it returns 1 * factorial(0). factorial(0) returns 1. This gets passed to factorial(1), which returns 1*1 = 1. This value gets passed to factorial(2), which returns 2 * 1 = 2. This value gets passed on to factorial 3, which ultimately returns 3 * 2 = 6. "
   ]
  },
  {
   "cell_type": "code",
   "execution_count": null,
   "id": "f528f440",
   "metadata": {},
   "outputs": [],
   "source": []
  }
 ],
 "metadata": {
  "kernelspec": {
   "display_name": "base",
   "language": "python",
   "name": "python3"
  },
  "language_info": {
   "codemirror_mode": {
    "name": "ipython",
    "version": 3
   },
   "file_extension": ".py",
   "mimetype": "text/x-python",
   "name": "python",
   "nbconvert_exporter": "python",
   "pygments_lexer": "ipython3",
   "version": "3.13.5"
  },
  "toc": {
   "base_numbering": 1,
   "nav_menu": {},
   "number_sections": true,
   "sideBar": true,
   "skip_h1_title": false,
   "title_cell": "Table of Contents",
   "title_sidebar": "Contents",
   "toc_cell": false,
   "toc_position": {},
   "toc_section_display": true,
   "toc_window_display": false
  }
 },
 "nbformat": 4,
 "nbformat_minor": 5
}
