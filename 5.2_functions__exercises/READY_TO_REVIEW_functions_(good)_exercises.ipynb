{
 "cells": [
  {
   "attachments": {},
   "cell_type": "markdown",
   "id": "123456",
   "metadata": {},
   "source": [
    "<div style=\"text-align:left;font-size:2em\"><span style=\"font-weight:bolder;font-size:1.25em\">SP2273 | Learning Portfolio</span><br><br><span style=\"font-weight:bold;color:darkred\">Functions (Good) Exercises</span></div>"
   ]
  },
  {
   "cell_type": "markdown",
   "id": "75425beb",
   "metadata": {},
   "source": [
    "# Exercise 1"
   ]
  },
  {
   "cell_type": "code",
   "execution_count": null,
   "id": "f99cbc7f",
   "metadata": {},
   "outputs": [
    {
     "name": "stdout",
     "output_type": "stream",
     "text": [
      "Invalid scale entered\n",
      "None\n"
     ]
    }
   ],
   "source": [
    "def convert_celsius(temperature_celsius, target_scale=\"Fahrenheit\"):\n",
    "    if target_scale == \"Kelvin\":\n",
    "        return temperature_celsius + 273.15\n",
    "    elif target_scale == \"Fahrenheit\":\n",
    "        return (temperature_celsius * (9/5)) + 32\n",
    "    else:\n",
    "        print(\"Invalid scale entered\")\n",
    "        return "
   ]
  },
  {
   "cell_type": "markdown",
   "id": "5d3fe9f1",
   "metadata": {},
   "source": [
    "# Exercise 2"
   ]
  },
  {
   "cell_type": "code",
   "execution_count": null,
   "id": "cfa88710",
   "metadata": {},
   "outputs": [
    {
     "name": "stdout",
     "output_type": "stream",
     "text": [
      "308.7055555555555\n"
     ]
    }
   ],
   "source": [
    "def convert_fahrenheit(temperature_fahrenheit, target_scale=\"Celsius\"):\n",
    "    if target_scale == \"Celsius\":\n",
    "        return (temperature_fahrenheit - 32) * (5/9)\n",
    "    elif target_scale == \"Kelvin\":\n",
    "        return (temperature_fahrenheit - 32) * (5/9) + 273.15\n",
    "    else:\n",
    "        print(\"Invalid target scale entered\")\n",
    "        return"
   ]
  },
  {
   "cell_type": "markdown",
   "id": "7db264d1",
   "metadata": {},
   "source": [
    "# Exercise 3"
   ]
  },
  {
   "cell_type": "code",
   "execution_count": null,
   "id": "d1265385",
   "metadata": {},
   "outputs": [
    {
     "name": "stdout",
     "output_type": "stream",
     "text": [
      "-197.14999999999998\n"
     ]
    }
   ],
   "source": [
    "def convert_temperature(temperature, source_scale, target_scale):\n",
    "    if source_scale == target_scale:\n",
    "        return temperature\n",
    "    elif source_scale == \"Celsius\":\n",
    "        return convert_celsius(temperature, target_scale)\n",
    "    elif source_scale == \"Fahrenheit\":\n",
    "        return convert_fahrenheit(temperature, target_scale)\n",
    "    elif source_scale == \"Kelvin\":\n",
    "        if target_scale == \"Celsius\":\n",
    "            return temperature - 273.15\n",
    "        elif target_scale == \"Fahrenheit\":\n",
    "            return (temperature - 273.15) * (9/5) + 32\n",
    "        else:\n",
    "            print(\"Invalid target scale entered.\")\n",
    "            return"
   ]
  }
 ],
 "metadata": {
  "kernelspec": {
   "display_name": "base",
   "language": "python",
   "name": "python3"
  },
  "language_info": {
   "codemirror_mode": {
    "name": "ipython",
    "version": 3
   },
   "file_extension": ".py",
   "mimetype": "text/x-python",
   "name": "python",
   "nbconvert_exporter": "python",
   "pygments_lexer": "ipython3",
   "version": "3.13.5"
  },
  "toc": {
   "base_numbering": 1,
   "nav_menu": {},
   "number_sections": true,
   "sideBar": true,
   "skip_h1_title": false,
   "title_cell": "Table of Contents",
   "title_sidebar": "Contents",
   "toc_cell": false,
   "toc_position": {},
   "toc_section_display": true,
   "toc_window_display": false
  }
 },
 "nbformat": 4,
 "nbformat_minor": 5
}
