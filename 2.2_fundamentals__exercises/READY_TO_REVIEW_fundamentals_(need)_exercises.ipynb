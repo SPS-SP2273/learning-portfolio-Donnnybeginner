{
 "cells": [
  {
   "attachments": {},
   "cell_type": "markdown",
   "id": "123456",
   "metadata": {},
   "source": [
    "<div style=\"text-align:left;font-size:2em\"><span style=\"font-weight:bolder;font-size:1.25em\">SP2273 | Learning Portfolio</span><br><br><span style=\"font-weight:bold;color:darkred\">Fundamentals (Need) Exercises</span></div>"
   ]
  },
  {
   "cell_type": "markdown",
   "id": "842157e1",
   "metadata": {},
   "source": [
    "# Exercise 1\n",
    "\n",
    "1. A function in Python is a sequence of code that carries out a specific action. For example, the print function prints out something as an output. They usually have parenthesis after them where we can enter arguments for the function.\n",
    "1. A variable is a sort of container for data in Python.\n",
    "1. = is used to assign a value to a variable while == is used to check if two items are equal to one another\n",
    "1. The if operator is used to make a decision. If the condition after the 'if' operator is True, then the indented code afterward would be executed. Otherwise, the code indented after the 'else' statement would be executed.\n",
    "1. Indentation is important and indented code may not be executed if the lines before do not have the appropriate code.\n",
    "1. Extra functionality can be transfered into python using the 'import' keyword. An alias can be assigned to the imported package. For example, the following will import the package numpy with np as the alias:  `import numpy as np`\n",
    "1. There are different types of brackets in python. () is used either to enter arguments into a function or for mathematical operations. [] is used for a list data type to enter an array of data. {} is used for a dictionary which stores key-value pairs."
   ]
  },
  {
   "cell_type": "markdown",
   "id": "1c4e3dbc",
   "metadata": {},
   "source": [
    "# Exercise 2"
   ]
  },
  {
   "cell_type": "code",
   "execution_count": 6,
   "id": "580fbf4d",
   "metadata": {},
   "outputs": [
    {
     "name": "stdout",
     "output_type": "stream",
     "text": [
      "3 4 5\n"
     ]
    }
   ],
   "source": [
    "import math\n",
    "x, y = 3, 4\n",
    "z = int(math.sqrt(x**2 + y**2))\n",
    "print(x, y, z)\n"
   ]
  },
  {
   "cell_type": "markdown",
   "id": "2dcb0918",
   "metadata": {},
   "source": [
    "# Exercise 3\n",
    "|**#**|**Term**|**Description**|\n",
    "|:--:|:---|:--:|\n",
    "|1|Function|A function is a specific type of code in Python that carries out a specific task, like finding the square root of a number.|\n",
    "|2|Arguments|An argument is enveloped in parenthesis and is something that you enter into a function to allow the function to act on it|\n",
    "|3|Comments|A piece of code after the \\# symbol that is not read by the Python intepreter|\n",
    "|4|Indentations|An indentation is a type of spacing from the left side that seperates code into blocks and it may execute the code that is indented depending on the first line of code above it that is not indented.|\n",
    "|5|Packages|Packages contain code that has extra functionality that may assist the coder in performing specialised tasks|\n",
    "|6|.|A dot is used to tell the python interpretor which package the function after the . is from|\n",
    "|7|:|The code after : in the following line or lines will be indented and said code will be executed depending on the code before the :|\n",
    "|8|\\[\\]|The brackets are used to define a specific data type called list that can store an array of different data types or used to store multiple instances of the same data type.|\n",
    "|9|\\[\\[\\], \\[\\]\\]|This is used to define a 2-dimensional numpy array or a 2-dimensional list|\n",
    "|10|\\{\\}|This is used to define a special data type called a dictionary that stores key-value pairs and the only way to obtain a value is if you know its corresponding key|"
   ]
  },
  {
   "cell_type": "markdown",
   "id": "041297f0",
   "metadata": {},
   "source": [
    "# Exercise 4"
   ]
  },
  {
   "cell_type": "code",
   "execution_count": null,
   "id": "6da9150e",
   "metadata": {},
   "outputs": [
    {
     "data": {
      "text/plain": [
       "2.5"
      ]
     },
     "execution_count": 8,
     "metadata": {},
     "output_type": "execute_result"
    }
   ],
   "source": [
    "5/2 #This divides the value 5 by 2 and returns a value with decimal points."
   ]
  },
  {
   "cell_type": "code",
   "execution_count": 1,
   "id": "e8a1a7f5",
   "metadata": {},
   "outputs": [
    {
     "data": {
      "text/plain": [
       "2"
      ]
     },
     "execution_count": 1,
     "metadata": {},
     "output_type": "execute_result"
    }
   ],
   "source": [
    "5//2#This divides 5 by 2 but only returns the quotient of the answer."
   ]
  },
  {
   "cell_type": "code",
   "execution_count": null,
   "id": "2739a1f6",
   "metadata": {},
   "outputs": [
    {
     "data": {
      "text/plain": [
       "1"
      ]
     },
     "execution_count": 2,
     "metadata": {},
     "output_type": "execute_result"
    }
   ],
   "source": [
    "5%2 #This returns the remainder of 5 divide by 2, which is 1."
   ]
  }
 ],
 "metadata": {
  "kernelspec": {
   "display_name": "base",
   "language": "python",
   "name": "python3"
  },
  "language_info": {
   "codemirror_mode": {
    "name": "ipython",
    "version": 3
   },
   "file_extension": ".py",
   "mimetype": "text/x-python",
   "name": "python",
   "nbconvert_exporter": "python",
   "pygments_lexer": "ipython3",
   "version": "3.13.5"
  },
  "toc": {
   "base_numbering": 1,
   "nav_menu": {},
   "number_sections": true,
   "sideBar": true,
   "skip_h1_title": false,
   "title_cell": "Table of Contents",
   "title_sidebar": "Contents",
   "toc_cell": false,
   "toc_position": {},
   "toc_section_display": true,
   "toc_window_display": false
  }
 },
 "nbformat": 4,
 "nbformat_minor": 5
}
