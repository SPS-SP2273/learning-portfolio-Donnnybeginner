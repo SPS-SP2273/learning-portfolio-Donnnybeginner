{
 "cells": [
  {
   "attachments": {},
   "cell_type": "markdown",
   "id": "123456",
   "metadata": {},
   "source": [
    "<div style=\"text-align:left;font-size:2em\"><span style=\"font-weight:bolder;font-size:1.25em\">SP2273 | Learning Portfolio</span><br><br><span style=\"font-weight:bold;color:darkred\">Fundamentals (Good) Exercises</span></div>"
   ]
  },
  {
   "cell_type": "markdown",
   "id": "1905d641",
   "metadata": {},
   "source": [
    "# Exercise 1"
   ]
  },
  {
   "cell_type": "code",
   "execution_count": 1,
   "id": "3b5875ca",
   "metadata": {},
   "outputs": [
    {
     "name": "stdout",
     "output_type": "stream",
     "text": [
      "How you doin DON!\n"
     ]
    }
   ],
   "source": [
    "name = input(\"What is your name? \")\n",
    "print(f\"How you doin {name.upper()}!\")"
   ]
  },
  {
   "cell_type": "code",
   "execution_count": 2,
   "id": "2ecad507",
   "metadata": {},
   "outputs": [
    {
     "name": "stdout",
     "output_type": "stream",
     "text": [
      "My name is  and I am  years old.\n"
     ]
    }
   ],
   "source": [
    "name = input(\"What is your name? \")\n",
    "age = input(\"What is your age? \")\n",
    "print(f\"My name is {name} and I am {age} years old.\")"
   ]
  },
  {
   "cell_type": "code",
   "execution_count": 3,
   "id": "ee6a558f",
   "metadata": {},
   "outputs": [
    {
     "name": "stdout",
     "output_type": "stream",
     "text": [
      "The value of pi to 2 decimal places is: 3.14\n",
      "The value of pi to 3 decimal places is: 3.142\n",
      "The value of pi to 4 decimal places is: 3.1416\n"
     ]
    }
   ],
   "source": [
    "pi = 3.141592653589793\n",
    "print(f\"The value of pi to 2 decimal places is: {pi:.2f}\")\n",
    "print(f\"The value of pi to 3 decimal places is: {pi:.3f}\")\n",
    "print(f\"The value of pi to 4 decimal places is: {pi:.4f}\")"
   ]
  },
  {
   "cell_type": "code",
   "execution_count": 4,
   "id": "58200310",
   "metadata": {},
   "outputs": [
    {
     "name": "stdout",
     "output_type": "stream",
     "text": [
      "Apple      $ 0.99\n",
      "Banana     $ 0.59\n",
      "Orange     $ 1.29\n",
      "********** $*****\n"
     ]
    }
   ],
   "source": [
    "print(f'{\"Apple\":<10} ${0.99:>5}')\n",
    "print(f'{\"Banana\":<10} ${0.59:>5}')\n",
    "print(f'{\"Orange\":<10} ${1.29:>5}')\n",
    "print(f'{\"*\" * 10} ${\"*\" * 5}')"
   ]
  },
  {
   "cell_type": "markdown",
   "id": "69bd4a00",
   "metadata": {},
   "source": [
    "# Exercise 2"
   ]
  },
  {
   "cell_type": "code",
   "execution_count": 5,
   "id": "d86f8598",
   "metadata": {},
   "outputs": [
    {
     "name": "stdout",
     "output_type": "stream",
     "text": [
      "Error: You did not enter a number.\n"
     ]
    }
   ],
   "source": [
    "def get_student_grade(student_score): \n",
    "    try:\n",
    "        student_score = int(student_score)\n",
    "    except ValueError:\n",
    "        print(\"Error: You did not enter a number.\")\n",
    "        return\n",
    "    else:\n",
    "        letter_grade = ''\n",
    "        if  student_score <= 100 and student_score >=70:\n",
    "            letter_grade = 'A'\n",
    "        elif student_score <= 69 and student_score >=50:\n",
    "            letter_grade = 'B'\n",
    "        elif student_score <= 49 and student_score >=35:\n",
    "            letter_grade = 'C'\n",
    "        elif student_score <= 34 and student_score >=0:\n",
    "            letter_grade = 'Fail'\n",
    "        else:\n",
    "            print(\"Error: You entered an invalid number.\")\n",
    "            return\n",
    "        print(f\"The student's letter grade is: {letter_grade}\")\n",
    "\n",
    "\n",
    "student_score = input(\"Enter the student's score: \")\n",
    "get_student_grade(student_score)"
   ]
  },
  {
   "cell_type": "markdown",
   "id": "a18b9276",
   "metadata": {},
   "source": [
    "# Exercise 3"
   ]
  },
  {
   "cell_type": "code",
   "execution_count": 6,
   "id": "f0e8c1a3",
   "metadata": {},
   "outputs": [
    {
     "name": "stdout",
     "output_type": "stream",
     "text": [
      "120\n",
      "Invalid input\n"
     ]
    }
   ],
   "source": [
    "def factorial(n):\n",
    "    if n < 0:\n",
    "        return \"Invalid input\"\n",
    "    elif n == 0:\n",
    "        return 1\n",
    "    else:\n",
    "        result = 1\n",
    "        for number in range(1, n+1):\n",
    "            result *= number\n",
    "        return result\n",
    "\n",
    "\n",
    "print(factorial(5))   # Testing, expected output: 120\n",
    "print(factorial(-1))  # Testing, expected output: Invalid input\n",
    "\n",
    "\n"
   ]
  }
 ],
 "metadata": {
  "kernelspec": {
   "display_name": "base",
   "language": "python",
   "name": "python3"
  },
  "language_info": {
   "codemirror_mode": {
    "name": "ipython",
    "version": 3
   },
   "file_extension": ".py",
   "mimetype": "text/x-python",
   "name": "python",
   "nbconvert_exporter": "python",
   "pygments_lexer": "ipython3",
   "version": "3.13.5"
  },
  "toc": {
   "base_numbering": 1,
   "nav_menu": {},
   "number_sections": true,
   "sideBar": true,
   "skip_h1_title": false,
   "title_cell": "Table of Contents",
   "title_sidebar": "Contents",
   "toc_cell": false,
   "toc_position": {},
   "toc_section_display": true,
   "toc_window_display": false
  }
 },
 "nbformat": 4,
 "nbformat_minor": 5
}
