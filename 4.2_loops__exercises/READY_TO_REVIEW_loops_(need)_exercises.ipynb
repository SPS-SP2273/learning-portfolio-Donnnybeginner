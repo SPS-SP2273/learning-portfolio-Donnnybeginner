{
 "cells": [
  {
   "attachments": {},
   "cell_type": "markdown",
   "id": "123456",
   "metadata": {},
   "source": [
    "<div style=\"text-align:left;font-size:2em\"><span style=\"font-weight:bolder;font-size:1.25em\">SP2273 | Learning Portfolio</span><br><br><span style=\"font-weight:bold;color:darkred\">Loops (Need) Exercises</span></div>"
   ]
  },
  {
   "cell_type": "markdown",
   "id": "78c8a1e9",
   "metadata": {},
   "source": [
    "# Exercise 1"
   ]
  },
  {
   "cell_type": "code",
   "execution_count": 1,
   "id": "9f64240f",
   "metadata": {},
   "outputs": [
    {
     "name": "stdout",
     "output_type": "stream",
     "text": [
      "Celsius: 0, Fahrenheit: 32.0\n",
      "Celsius: 5, Fahrenheit: 41.0\n",
      "Celsius: 10, Fahrenheit: 50.0\n",
      "Celsius: 15, Fahrenheit: 59.0\n",
      "Celsius: 20, Fahrenheit: 68.0\n",
      "Celsius: 25, Fahrenheit: 77.0\n",
      "Celsius: 30, Fahrenheit: 86.0\n",
      "Celsius: 35, Fahrenheit: 95.0\n",
      "Celsius: 40, Fahrenheit: 104.0\n",
      "Celsius: 45, Fahrenheit: 113.0\n",
      "Celsius: 50, Fahrenheit: 122.0\n"
     ]
    }
   ],
   "source": [
    "temperatures_celsius = [\n",
    "    0, 5, 10, 15, 20, 25,\n",
    "    30, 35, 40, 45, 50\n",
    "]\n",
    "for temperature in temperatures_celsius:\n",
    "    fahrenheit = (temperature * 1.8) + 32\n",
    "    print(f\"Celsius: {temperature}, Fahrenheit: {fahrenheit}\")\n"
   ]
  },
  {
   "cell_type": "markdown",
   "id": "f7c23d0c",
   "metadata": {},
   "source": [
    "# Exercise 2"
   ]
  },
  {
   "cell_type": "code",
   "execution_count": 17,
   "id": "560cad4a",
   "metadata": {},
   "outputs": [
    {
     "name": "stdout",
     "output_type": "stream",
     "text": [
      "1 : \t1\t2\t3\t4\t5\t\n",
      "2 : \t2\t4\t6\t8\t10\t\n",
      "3 : \t3\t6\t9\t12\t15\t\n",
      "4 : \t4\t8\t12\t16\t20\t\n",
      "5 : \t5\t10\t15\t20\t25\t\n"
     ]
    }
   ],
   "source": [
    "up_to_5_list = [1, 2, 3, 4, 5]\n",
    "for row_num in up_to_5_list:\n",
    "    print(f\"{row_num} : \", end = \"\\t\")\n",
    "    for col_num in up_to_5_list:\n",
    "        element = row_num * col_num\n",
    "        print(f\"{element}\", end=\"\\t\")\n",
    "    print()"
   ]
  },
  {
   "cell_type": "markdown",
   "id": "91f70a03",
   "metadata": {},
   "source": [
    "# Exercise 3"
   ]
  },
  {
   "cell_type": "code",
   "execution_count": null,
   "id": "4541f302",
   "metadata": {},
   "outputs": [
    {
     "name": "stdout",
     "output_type": "stream",
     "text": [
      "Experiment  1: No. of Heads = 4\n",
      "Experiment  2: No. of Heads = 7\n",
      "Experiment  3: No. of Heads = 4\n",
      "Experiment  4: No. of Heads = 8\n",
      "Experiment  5: No. of Heads = 5\n",
      "Experiment  6: No. of Heads = 8\n",
      "Experiment  7: No. of Heads = 4\n",
      "Experiment  8: No. of Heads = 2\n",
      "Experiment  9: No. of Heads = 4\n",
      "Experiment 10: No. of Heads = 7\n"
     ]
    }
   ],
   "source": [
    "import numpy as np\n",
    "\n",
    "for exp_num in range(1, 11):\n",
    "    coin_flips = np.random.rand(10)\n",
    "    num_heads = 0\n",
    "    for flip in coin_flips:\n",
    "        if flip > 0.5:\n",
    "            num_heads+=1\n",
    "    print(\"Experiment\" + f'{exp_num:>3}' + f\": No. of Heads = {num_heads}\") #Use + so that there would be no extra blank spaces between the texts"
   ]
  }
 ],
 "metadata": {
  "kernelspec": {
   "display_name": "base",
   "language": "python",
   "name": "python3"
  },
  "language_info": {
   "codemirror_mode": {
    "name": "ipython",
    "version": 3
   },
   "file_extension": ".py",
   "mimetype": "text/x-python",
   "name": "python",
   "nbconvert_exporter": "python",
   "pygments_lexer": "ipython3",
   "version": "3.13.5"
  },
  "toc": {
   "base_numbering": 1,
   "nav_menu": {},
   "number_sections": true,
   "sideBar": true,
   "skip_h1_title": false,
   "title_cell": "Table of Contents",
   "title_sidebar": "Contents",
   "toc_cell": false,
   "toc_position": {},
   "toc_section_display": true,
   "toc_window_display": false
  }
 },
 "nbformat": 4,
 "nbformat_minor": 5
}
