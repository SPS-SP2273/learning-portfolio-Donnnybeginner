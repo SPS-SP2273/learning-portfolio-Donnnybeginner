{
 "cells": [
  {
   "attachments": {},
   "cell_type": "markdown",
   "id": "123456",
   "metadata": {},
   "source": [
    "<div style=\"text-align:left;font-size:2em\"><span style=\"font-weight:bolder;font-size:1.25em\">SP2273 | Learning Portfolio</span><br><br><span style=\"font-weight:bold;color:darkred\">Loops (Good) Exercises</span></div>"
   ]
  },
  {
   "cell_type": "markdown",
   "id": "9a29b3f9",
   "metadata": {},
   "source": [
    "# Exercise 1"
   ]
  },
  {
   "cell_type": "code",
   "execution_count": null,
   "id": "cd4e4cf2",
   "metadata": {},
   "outputs": [
    {
     "name": "stdout",
     "output_type": "stream",
     "text": [
      "1.61 μs ± 0 ns per loop (mean ± std. dev. of 1 run, 10 loops each)\n"
     ]
    }
   ],
   "source": [
    "%%timeit #Do not print result , timeit runs the cell multiple times \n",
    "#(-n 10): 10 loops, (-r 1): 1 run, all together 1 run of 10 loops each. syntax: %%timeit -n 10 -r 1\n",
    "odd_list = []\n",
    "for num in range(0,10):\n",
    "    if num % 2 == 0:\n",
    "        continue\n",
    "    else:\n",
    "        odd_list.append(num**2)\n",
    "#print(odd_list)"
   ]
  },
  {
   "cell_type": "markdown",
   "id": "5ec1dc72",
   "metadata": {},
   "source": [
    "# Exercise 2"
   ]
  },
  {
   "cell_type": "code",
   "execution_count": null,
   "id": "e80014f0",
   "metadata": {},
   "outputs": [
    {
     "name": "stdout",
     "output_type": "stream",
     "text": [
      "1.03 μs ± 0 ns per loop (mean ± std. dev. of 1 run, 10 loops each)\n"
     ]
    }
   ],
   "source": [
    "%%timeit \n",
    "new_odd_list = [num**2 for num in range(0, 10) if num % 2 == 1]"
   ]
  },
  {
   "cell_type": "markdown",
   "id": "126e33e6",
   "metadata": {},
   "source": [
    "A list comprehension is faster than a for loop. A list comprehension took an average of 1.03 μs ± 0 ns per loop while a for loop took an average of 1.61 μs ± 0 ns per loop."
   ]
  },
  {
   "cell_type": "markdown",
   "id": "6b351f35",
   "metadata": {},
   "source": [
    "# Exercise 4"
   ]
  },
  {
   "cell_type": "code",
   "execution_count": 23,
   "id": "43baff41",
   "metadata": {},
   "outputs": [
    {
     "name": "stdout",
     "output_type": "stream",
     "text": [
      "It takes 14 years and the quantity left is 48.77 units rounded off to 2 decimal places.\n"
     ]
    }
   ],
   "source": [
    "quantity = 100\n",
    "half_original_amount = quantity / 2\n",
    "num_years = 0\n",
    "while quantity > half_original_amount:\n",
    "    quantity *= 0.95\n",
    "    num_years += 1\n",
    "\n",
    "print(f\"It takes {num_years} years and the quantity left is {round(quantity, 2)} units rounded off to 2 decimal places.\")"
   ]
  },
  {
   "cell_type": "markdown",
   "id": "b30c3454",
   "metadata": {},
   "source": [
    "# Exercise 5"
   ]
  },
  {
   "cell_type": "code",
   "execution_count": null,
   "id": "62c872e2",
   "metadata": {},
   "outputs": [
    {
     "name": "stdout",
     "output_type": "stream",
     "text": [
      "Year: 2016, change in concentration: 3.41ppm rounded off to 2 decimal places\n"
     ]
    }
   ],
   "source": [
    "co2_data = [\n",
    "    (2000, 369.55), (2001, 371.14), (2002, 373.28), \n",
    "    (2003, 375.80), (2004, 377.52), (2005, 379.80), \n",
    "    (2006, 381.90), (2007, 383.79), (2008, 385.60), \n",
    "    (2009, 387.43), (2010, 389.90), (2011, 391.65), \n",
    "    (2012, 393.85), (2013, 396.52), (2014, 398.65),\n",
    "    (2015, 400.83), (2016, 404.24), (2017, 406.55), \n",
    "    (2018, 408.52), (2019, 411.44), (2020, 414.24)\n",
    "]\n",
    "data_length = len(co2_data)\n",
    "for index in range(1, data_length):\n",
    "    year, CO2_level = co2_data[index]\n",
    "    previous_year_CO2_level = co2_data[index - 1][1]\n",
    "    diff_in_ppm = CO2_level - previous_year_CO2_level\n",
    "    if diff_in_ppm >= 3:\n",
    "        print(f\"Year: {year}, change in concentration: {round(diff_in_ppm, 2)}ppm rounded off to 2 decimal places\")"
   ]
  }
 ],
 "metadata": {
  "kernelspec": {
   "display_name": "base",
   "language": "python",
   "name": "python3"
  },
  "language_info": {
   "codemirror_mode": {
    "name": "ipython",
    "version": 3
   },
   "file_extension": ".py",
   "mimetype": "text/x-python",
   "name": "python",
   "nbconvert_exporter": "python",
   "pygments_lexer": "ipython3",
   "version": "3.13.5"
  },
  "toc": {
   "base_numbering": 1,
   "nav_menu": {},
   "number_sections": true,
   "sideBar": true,
   "skip_h1_title": false,
   "title_cell": "Table of Contents",
   "title_sidebar": "Contents",
   "toc_cell": false,
   "toc_position": {},
   "toc_section_display": true,
   "toc_window_display": false
  }
 },
 "nbformat": 4,
 "nbformat_minor": 5
}
