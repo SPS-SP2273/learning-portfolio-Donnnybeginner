{
 "cells": [
  {
   "cell_type": "code",
   "execution_count": 3,
   "id": "41139000",
   "metadata": {},
   "outputs": [
    {
     "name": "stdout",
     "output_type": "stream",
     "text": [
      "199.99999851733446 200\n"
     ]
    }
   ],
   "source": [
    "import numpy as np\n",
    "\n",
    "value1 = 1\n",
    "value2 = 200\n",
    "while not np.isclose(value1, value2, rtol=1e-08):\n",
    "    value1 += (value2 - value1)/2\n",
    "\n",
    "print(value1, value2)\n"
   ]
  }
 ],
 "metadata": {
  "kernelspec": {
   "display_name": "base",
   "language": "python",
   "name": "python3"
  },
  "language_info": {
   "codemirror_mode": {
    "name": "ipython",
    "version": 3
   },
   "file_extension": ".py",
   "mimetype": "text/x-python",
   "name": "python",
   "nbconvert_exporter": "python",
   "pygments_lexer": "ipython3",
   "version": "3.13.5"
  }
 },
 "nbformat": 4,
 "nbformat_minor": 5
}
