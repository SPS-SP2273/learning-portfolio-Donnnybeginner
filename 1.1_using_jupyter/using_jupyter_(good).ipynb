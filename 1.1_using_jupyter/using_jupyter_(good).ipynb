{
 "cells": [
  {
   "attachments": {},
   "cell_type": "markdown",
   "id": "123456",
   "metadata": {},
   "source": [
    "<div style=\"text-align:left;font-size:2em\"><span style=\"font-weight:bolder;font-size:1.25em\">SP2273 | Learning Portfolio</span><br><br><span style=\"font-weight:bold;color:darkred\">Using Jupyter (Good)</span></div>"
   ]
  },
  {
   "attachments": {},
   "cell_type": "markdown",
   "id": "b4ee1738",
   "metadata": {},
   "source": [
    "# What to expect in this chapter"
   ]
  },
  {
   "attachments": {},
   "cell_type": "markdown",
   "id": "e334783b",
   "metadata": {},
   "source": [
    "# 1 Some tips and tricks"
   ]
  },
  {
   "cell_type": "markdown",
   "id": "13322d52-b910-4463-95ec-80dde3969c22",
   "metadata": {},
   "source": [
    "## 1.1 Keyboard Shortcuts"
   ]
  },
  {
   "attachments": {},
   "cell_type": "markdown",
   "id": "2cdcd464",
   "metadata": {},
   "source": [
    "### Things to note"
   ]
  },
  {
   "cell_type": "code",
   "execution_count": 1,
   "id": "d7ccff31",
   "metadata": {},
   "outputs": [
    {
     "name": "stdout",
     "output_type": "stream",
     "text": [
      "Hello\n"
     ]
    }
   ],
   "source": [
    "\n",
    "# Your code here\n",
    "print(\"Hello\")"
   ]
  },
  {
   "attachments": {},
   "cell_type": "markdown",
   "id": "ea464585",
   "metadata": {},
   "source": [
    "## 1.2 Shell commands"
   ]
  },
  {
   "attachments": {},
   "cell_type": "markdown",
   "id": "761131bf",
   "metadata": {},
   "source": [
    "# 2 Install Notebook 7"
   ]
  },
  {
   "attachments": {},
   "cell_type": "markdown",
   "id": "dba5c976",
   "metadata": {},
   "source": [
    "# Jupyter Extensions"
   ]
  },
  {
   "attachments": {},
   "cell_type": "markdown",
   "id": "3eaa191d",
   "metadata": {},
   "source": [
    "## Installing the extensions"
   ]
  },
  {
   "attachments": {},
   "cell_type": "markdown",
   "id": "5d7651d2",
   "metadata": {},
   "source": [
    "## Enabling the extensions"
   ]
  },
  {
   "attachments": {},
   "cell_type": "markdown",
   "id": "62cfcb80",
   "metadata": {},
   "source": [
    "# 3 Shell Magic"
   ]
  },
  {
   "attachments": {},
   "cell_type": "markdown",
   "id": "e140b7cc",
   "metadata": {},
   "source": [
    "# 4 The Kernel"
   ]
  }
 ],
 "metadata": {
  "kernelspec": {
   "display_name": "Python 3 (ipykernel)",
   "language": "python",
   "name": "python3"
  },
  "language_info": {
   "codemirror_mode": {
    "name": "ipython",
    "version": 3
   },
   "file_extension": ".py",
   "mimetype": "text/x-python",
   "name": "python",
   "nbconvert_exporter": "python",
   "pygments_lexer": "ipython3",
   "version": "3.13.5"
  },
  "toc": {
   "base_numbering": 1,
   "nav_menu": {},
   "number_sections": true,
   "sideBar": true,
   "skip_h1_title": false,
   "title_cell": "Table of Contents",
   "title_sidebar": "Contents",
   "toc_cell": false,
   "toc_position": {},
   "toc_section_display": true,
   "toc_window_display": false
  },
  "vscode": {
   "interpreter": {
    "hash": "31f2aee4e71d21fbe5cf8b01ff0e069b9275f58929596ceb00d14d90e3e16cd6"
   }
  }
 },
 "nbformat": 4,
 "nbformat_minor": 5
}
