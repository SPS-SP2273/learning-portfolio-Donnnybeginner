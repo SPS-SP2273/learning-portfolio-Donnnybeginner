{
 "cells": [
  {
   "attachments": {},
   "cell_type": "markdown",
   "id": "123456",
   "metadata": {},
   "source": [
    "<div style=\"text-align:left;font-size:2em\"><span style=\"font-weight:bolder;font-size:1.25em\">SP2273 | Learning Portfolio</span><br><br><span style=\"font-weight:bold;color:darkred\">Loops (Need)</span></div>"
   ]
  },
  {
   "attachments": {},
   "cell_type": "markdown",
   "id": "123456",
   "metadata": {},
   "source": [
    "# What to expect in this chapter"
   ]
  },
  {
   "attachments": {},
   "cell_type": "markdown",
   "id": "123456",
   "metadata": {},
   "source": [
    "# 1 The for iterator"
   ]
  },
  {
   "cell_type": "code",
   "execution_count": null,
   "id": "48e1ba1d",
   "metadata": {},
   "outputs": [
    {
     "name": "stdout",
     "output_type": "stream",
     "text": [
      "1 Natasha Romanoff\n",
      "2 Tony Stark\n",
      "3 Stephen Strange\n",
      "\n",
      "1 Natasha Romanoff\n",
      "1 Tony Stark\n",
      "1 Stephen Strange\n",
      "\n",
      "0 Natasha Romanoff\n",
      "0 Tony Stark\n",
      "0 Stephen Strange\n"
     ]
    }
   ],
   "source": [
    "real_names = [\"Natasha Romanoff\", \"Tony Stark\", \"Stephen Strange\"]\n",
    "count = 0\n",
    "for count, name in enumerate(real_names, start = 1):\n",
    "    print(count, name)\n",
    "\n",
    "print()\n",
    "for name in real_names:\n",
    "    second_count = 0 #the count resets to 0 for each round\n",
    "    second_count += 1 #count becomes 1\n",
    "    print(second_count, name)\n",
    "\n",
    "print()\n",
    "third_count = 0\n",
    "for name in real_names:\n",
    "    print(third_count, name)\n",
    "third_count += 1 #indentation matters\n",
    "    "
   ]
  },
  {
   "cell_type": "code",
   "execution_count": null,
   "id": "ad20a1d2",
   "metadata": {},
   "outputs": [
    {
     "ename": "ValueError",
     "evalue": "too many values to unpack (expected 2)",
     "output_type": "error",
     "traceback": [
      "\u001b[31m---------------------------------------------------------------------------\u001b[39m",
      "\u001b[31mValueError\u001b[39m                                Traceback (most recent call last)",
      "\u001b[36mCell\u001b[39m\u001b[36m \u001b[39m\u001b[32mIn[15]\u001b[39m\u001b[32m, line 2\u001b[39m\n\u001b[32m      1\u001b[39m super_names = [\u001b[33m'\u001b[39m\u001b[33mBlack widow\u001b[39m\u001b[33m'\u001b[39m, \u001b[33m\"\u001b[39m\u001b[33miron man\u001b[39m\u001b[33m\"\u001b[39m, \u001b[33m\"\u001b[39m\u001b[33mDr strange\u001b[39m\u001b[33m\"\u001b[39m]\n\u001b[32m----> \u001b[39m\u001b[32m2\u001b[39m \u001b[38;5;28;01mfor\u001b[39;00m real_name, super_name \u001b[38;5;129;01min\u001b[39;00m [real_names, super_names]:\n\u001b[32m      3\u001b[39m     \u001b[38;5;28mprint\u001b[39m(\u001b[33mf\u001b[39m\u001b[33m'\u001b[39m\u001b[38;5;132;01m{\u001b[39;00mreal_name\u001b[38;5;132;01m}\u001b[39;00m\u001b[33m: \u001b[39m\u001b[38;5;132;01m{\u001b[39;00msuper_name\u001b[38;5;132;01m}\u001b[39;00m\u001b[33m'\u001b[39m)\n",
      "\u001b[31mValueError\u001b[39m: too many values to unpack (expected 2)"
     ]
    }
   ],
   "source": []
  },
  {
   "attachments": {},
   "cell_type": "markdown",
   "id": "123456",
   "metadata": {},
   "source": [
    "## 1.1 for with a list"
   ]
  },
  {
   "attachments": {},
   "cell_type": "markdown",
   "id": "123456",
   "metadata": {},
   "source": [
    "## 1.2 for with enumerate"
   ]
  },
  {
   "attachments": {},
   "cell_type": "markdown",
   "id": "123456",
   "metadata": {},
   "source": [
    "## 1.3 for with range"
   ]
  },
  {
   "attachments": {},
   "cell_type": "markdown",
   "id": "123456",
   "metadata": {},
   "source": [
    "# 2 while"
   ]
  },
  {
   "cell_type": "code",
   "execution_count": 21,
   "id": "6a012e35",
   "metadata": {},
   "outputs": [
    {
     "name": "stdout",
     "output_type": "stream",
     "text": [
      "x*180/np.pi=57.2957795131 np.sin(x)=0.84147098 np.tan(x)=1.55740772 False\n",
      "x*180/np.pi=28.6478897565 np.sin(x)=0.47942554 np.tan(x)=0.54630249 False\n",
      "x*180/np.pi=14.3239448783 np.sin(x)=0.24740396 np.tan(x)=0.25534192 False\n",
      "x*180/np.pi=7.1619724391 np.sin(x)=0.12467473 np.tan(x)=0.12565514 False\n",
      "x*180/np.pi=3.5809862196 np.sin(x)=0.06245932 np.tan(x)=0.06258151 False\n",
      "x*180/np.pi=1.7904931098 np.sin(x)=0.03124491 np.tan(x)=0.03126018 False\n",
      "x*180/np.pi=0.8952465549 np.sin(x)=0.01562436 np.tan(x)=0.01562627 False\n",
      "x*180/np.pi=0.4476232774 np.sin(x)=0.00781242 np.tan(x)=0.00781266 False\n",
      "x*180/np.pi=0.2238116387 np.sin(x)=0.00390624 np.tan(x)=0.00390627 True\n",
      "x*180/np.pi=0.1119058194 np.sin(x)=0.00195312 np.tan(x)=0.00195313 True\n",
      "\n",
      "\n",
      "x*180/np.pi=57.2957795131 np.sin(x)=0.84147098 np.tan(x)=1.55740772 False\n",
      "x*180/np.pi=28.6478897565 np.sin(x)=0.47942554 np.tan(x)=0.54630249 False\n",
      "x*180/np.pi=14.3239448783 np.sin(x)=0.24740396 np.tan(x)=0.25534192 False\n",
      "x*180/np.pi=7.1619724391 np.sin(x)=0.12467473 np.tan(x)=0.12565514 False\n",
      "x*180/np.pi=3.5809862196 np.sin(x)=0.06245932 np.tan(x)=0.06258151 False\n",
      "x*180/np.pi=1.7904931098 np.sin(x)=0.03124491 np.tan(x)=0.03126018 False\n",
      "x*180/np.pi=0.8952465549 np.sin(x)=0.01562436 np.tan(x)=0.01562627 False\n",
      "x*180/np.pi=0.4476232774 np.sin(x)=0.00781242 np.tan(x)=0.00781266 False\n",
      "x*180/np.pi=0.2238116387 np.sin(x)=0.00390624 np.tan(x)=0.00390627 True\n",
      "x*180/np.pi=0.1119058194 np.sin(x)=0.00195312 np.tan(x)=0.00195313 True\n"
     ]
    }
   ],
   "source": [
    "import numpy as np\n",
    "x = 1\n",
    "while x > 1E-3:\n",
    "    print(\n",
    "        f'{x*180/np.pi=:.10f}', #convert to degree\n",
    "        f'{np.sin(x)=:.8f}', \n",
    "        f'{np.tan(x)=:.8f}', \n",
    "        np.isclose(np.sin(x), np.tan(x))) #To check if sin and tan are close\n",
    "    x /= 2\n",
    "    #if we want to use a for loop we need to know the number of iterations\n",
    "print()\n",
    "print()\n",
    "x = 1\n",
    "for _ in range(10):\n",
    "    print(\n",
    "        f'{x*180/np.pi=:.10f}', #convert to degree\n",
    "        f'{np.sin(x)=:.8f}', \n",
    "        f'{np.tan(x)=:.8f}', \n",
    "        np.isclose(np.sin(x), np.tan(x))) #To check if sin and tan are close\n",
    "    x /= 2\n",
    "    #if we want to use a for loop we need to know the number of iterations"
   ]
  }
 ],
 "metadata": {
  "kernelspec": {
   "display_name": "base",
   "language": "python",
   "name": "python3"
  },
  "language_info": {
   "codemirror_mode": {
    "name": "ipython",
    "version": 3
   },
   "file_extension": ".py",
   "mimetype": "text/x-python",
   "name": "python",
   "nbconvert_exporter": "python",
   "pygments_lexer": "ipython3",
   "version": "3.13.5"
  },
  "toc": {
   "base_numbering": 1,
   "nav_menu": {},
   "number_sections": true,
   "sideBar": true,
   "skip_h1_title": false,
   "title_cell": "Table of Contents",
   "title_sidebar": "Contents",
   "toc_cell": false,
   "toc_position": {},
   "toc_section_display": true,
   "toc_window_display": false
  }
 },
 "nbformat": 4,
 "nbformat_minor": 5
}
