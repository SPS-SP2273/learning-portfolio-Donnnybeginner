{
 "cells": [
  {
   "attachments": {},
   "cell_type": "markdown",
   "id": "123456",
   "metadata": {},
   "source": [
    "<div style=\"text-align:left;font-size:2em\"><span style=\"font-weight:bolder;font-size:1.25em\">SP2273 | Learning Portfolio</span><br><br><span style=\"font-weight:bold;color:darkred\">Using Jupyter (Need), Exercises</span></div>"
   ]
  },
  {
   "attachments": {},
   "cell_type": "markdown",
   "id": "123456",
   "metadata": {},
   "source": [
    "## Exercise 1: Quadratic Equations"
   ]
  },
  {
   "attachments": {},
   "cell_type": "markdown",
   "id": "123456",
   "metadata": {},
   "source": [
    "### Introduction"
   ]
  },
  {
   "cell_type": "markdown",
   "id": "d3149f2d",
   "metadata": {},
   "source": [
    "![](https://upload.wikimedia.org/wikipedia/commons/thumb/f/f8/Polynomialdeg2.svg/300px-Polynomialdeg2.svg.png)"
   ]
  },
  {
   "cell_type": "markdown",
   "id": "b398023e",
   "metadata": {},
   "source": [
    "*(Image from the [Wikipedia page on Quadratic equations](https://en.wikipedia.org/wiki/Quadratic_equation))*\n",
    "\n"
   ]
  },
  {
   "cell_type": "markdown",
   "id": "ddf55723",
   "metadata": {},
   "source": [
    "The general form of a quadratic equation is:\n",
    "$$\n",
    "ax^2 + bx + c = 0\n",
    "$$\n"
   ]
  },
  {
   "attachments": {},
   "cell_type": "markdown",
   "id": "123456",
   "metadata": {},
   "source": [
    "### Solutions"
   ]
  },
  {
   "cell_type": "markdown",
   "id": "e7f26134",
   "metadata": {},
   "source": [
    "Provided $a\\neq0$, we can use an elementary algebraic method called [completing the square](https://en.wikipedia.org/wiki/Completing_the_square) to show that a quadratic equation has the following solution:\n",
    "\n",
    "$$\n",
    "x=\\dfrac{-b \\pm \\sqrt{b^2-4ac}}{2a}\n",
    "$$"
   ]
  },
  {
   "attachments": {},
   "cell_type": "markdown",
   "id": "123456",
   "metadata": {},
   "source": [
    "### Discriminant"
   ]
  },
  {
   "cell_type": "markdown",
   "id": "2b8993f8",
   "metadata": {},
   "source": [
    "The quantity $\\Delta = b^2 - 4ac$ is called the **discriminant** of the equation and decides the nature of its solutions. The table below shows the various possiblities."
   ]
  },
  {
   "cell_type": "markdown",
   "id": "ee1c767b",
   "metadata": {},
   "source": [
    "|**Discriminant**|**Roots**|\n",
    "|:--:|:--|\n",
    "|$\\Delta = b^2 - 4ac = 0$|A single solution of $-b/(2a)$|\n",
    "|$\\Delta = b^2 - 4ac \\gt 0$|Two distinct solutions|\n",
    "|$\\Delta = b^2 - 4ac \\lt 0$|No real solutions;both are complex|"
   ]
  },
  {
   "cell_type": "markdown",
   "id": "bee47853",
   "metadata": {},
   "source": [
    "# Exercise 2\n",
    "\n",
    "1. A git repository is a place on the cloud where we can store files and codes. It allows one to obtain different versions of code when needed.\n",
    "\n",
    "1. Git keeps track of **changes** in the files in our repository.\n",
    "\n",
    "1. A commit saves the version of the code that is present when the git is made, allowing the code that is saved to be obtained and accessed should anything go wrong.\n",
    "\n",
    "1. A push transfers the stuff saved by the commit to the cloud such as to a git repository.\n",
    "\n",
    "1. A pull transfers the latest version of the code from the repository and stores it on the local machine such as our own laptop.\n",
    "\n",
    "1. GitHub Desktop is located on a local machine such as one's laptop while GitHub is located on the internet. GitHub hosts repositories while GitHub Desktop provides a graphical user interface for to interact with GitHub on the internet.\n"
   ]
  },
  {
   "cell_type": "markdown",
   "id": "0a69afb9",
   "metadata": {},
   "source": [
    "# Exercise 3"
   ]
  },
  {
   "cell_type": "markdown",
   "id": "3e050c1f",
   "metadata": {},
   "source": [
    "$$\n",
    "\\mu = \\frac {1}{n} \\sum_{i=1}^{n} x_{i} \n",
    "$$\n",
    "\n",
    "\n"
   ]
  },
  {
   "cell_type": "markdown",
   "id": "46b1a754",
   "metadata": {},
   "source": [
    "$$\n",
    "\\sigma = \\sqrt{\\frac {1}{n} \\sum_{i=1}^{n} (x_{i} - \\mu)^2}\n",
    "$$"
   ]
  },
  {
   "cell_type": "markdown",
   "id": "5b663ad5",
   "metadata": {},
   "source": [
    "$$\n",
    "r = \\frac{\\sum_{i=1}^{n} (x_{i} - \\mu x)(y_{i} - \\mu_{Y})}{\\sqrt{\\sum_{i=1}^{n} (x_{i} - \\mu_{X})^2 \\sum_{i=1}^{n} (y_{i} - \\mu_{Y})^2}}\n",
    "$$"
   ]
  },
  {
   "cell_type": "code",
   "execution_count": 39,
   "id": "123456",
   "metadata": {},
   "outputs": [],
   "source": [
    "\n",
    "# Your code here\n"
   ]
  }
 ],
 "metadata": {
  "kernelspec": {
   "display_name": "base",
   "language": "python",
   "name": "python3"
  },
  "language_info": {
   "codemirror_mode": {
    "name": "ipython",
    "version": 3
   },
   "file_extension": ".py",
   "mimetype": "text/x-python",
   "name": "python",
   "nbconvert_exporter": "python",
   "pygments_lexer": "ipython3",
   "version": "3.13.5"
  },
  "toc": {
   "base_numbering": 1,
   "nav_menu": {},
   "number_sections": true,
   "sideBar": true,
   "skip_h1_title": false,
   "title_cell": "Table of Contents",
   "title_sidebar": "Contents",
   "toc_cell": false,
   "toc_position": {},
   "toc_section_display": true,
   "toc_window_display": false
  }
 },
 "nbformat": 4,
 "nbformat_minor": 5
}
