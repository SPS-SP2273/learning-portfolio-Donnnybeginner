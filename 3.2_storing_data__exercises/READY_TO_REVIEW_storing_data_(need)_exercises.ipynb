{
 "cells": [
  {
   "attachments": {},
   "cell_type": "markdown",
   "id": "123456",
   "metadata": {},
   "source": [
    "<div style=\"text-align:left;font-size:2em\"><span style=\"font-weight:bolder;font-size:1.25em\">SP2273 | Learning Portfolio</span><br><br><span style=\"font-weight:bold;color:darkred\">Storing Data (Need) Exercises</span></div>"
   ]
  },
  {
   "cell_type": "markdown",
   "id": "8c873908",
   "metadata": {},
   "source": [
    "# Exercise 1\n",
    "\n",
    "1. Both lists and arrays store more than 1 data or variable. The elements in both these data types can be accessed using indexing(list[0] returns first element of list. array[0] returns the first element of the array)\n",
    "1. Elements of a lists do not need to be the same data type while elements of an array have to be the same data type. When adding two lists together, the second list gets appended to the end of the first list. However, when adding two arrays together, each individual element in the second array gets added to elements in the first array at the corresponding index.\n",
    "1. A dictionary is a data type that contains multiple data in the form of key-value pairs. To access a specific value, you need to know the corresponding key. The syntax is dictionary[key] in order to get the value."
   ]
  },
  {
   "cell_type": "markdown",
   "id": "96a5f142",
   "metadata": {},
   "source": [
    "# Exercise 2"
   ]
  },
  {
   "cell_type": "code",
   "execution_count": 1,
   "id": "606b9ab5",
   "metadata": {},
   "outputs": [
    {
     "name": "stdout",
     "output_type": "stream",
     "text": [
      "a1\n",
      "c3\n",
      "e5\n",
      "g7\n",
      "i9\n"
     ]
    },
    {
     "data": {
      "text/plain": [
       "'\\nprint()\\nfor i in range(0, len(py_list), 2):\\n    print(py_list[i])\\n'"
      ]
     },
     "execution_count": 1,
     "metadata": {},
     "output_type": "execute_result"
    }
   ],
   "source": [
    "py_list = [\"a1\", \"b2\", \"c3\", \"d4\", \"e5\", \"f6\", \"g7\", \"h8\", \"i9\", \"j10\"]\n",
    "print(py_list[0])                    # Prints 'a1'\n",
    "print(py_list[2])                    # Prints 'c3'\n",
    "print(py_list[4])                    # Prints 'e5'\n",
    "print(py_list[6])                    # Prints 'g7'\n",
    "print(py_list[8])   # Prints 'i9'\n",
    "\n",
    "'''\n",
    "print()\n",
    "for i in range(0, len(py_list), 2):\n",
    "    print(py_list[i])\n",
    "'''"
   ]
  },
  {
   "cell_type": "markdown",
   "id": "6576c2b8",
   "metadata": {},
   "source": [
    "# Exercise 3"
   ]
  },
  {
   "cell_type": "code",
   "execution_count": 2,
   "id": "d7fbc047",
   "metadata": {},
   "outputs": [
    {
     "name": "stdout",
     "output_type": "stream",
     "text": [
      "Boron\n",
      "Boron\n"
     ]
    }
   ],
   "source": [
    "elements = ['Hydrogen',\n",
    "            'Helium', 'Lithium',\n",
    "            'Beryllium', 'Boron', 'Carbon',\n",
    "            'Nitrogen', 'Oxygen',\n",
    "            'Fluorine',\n",
    "            'Neon']\n",
    "\n",
    "print(elements[4]) #prints element at index 4 using forward indexing\n",
    "print(elements[-6]) #prints element at index 4 from the end of the list using reverse indexing"
   ]
  },
  {
   "cell_type": "markdown",
   "id": "806c1203",
   "metadata": {},
   "source": [
    "# Exercise 4"
   ]
  },
  {
   "cell_type": "code",
   "execution_count": null,
   "id": "9b8f14b2",
   "metadata": {},
   "outputs": [
    {
     "name": "stdout",
     "output_type": "stream",
     "text": [
      "9\n"
     ]
    }
   ],
   "source": [
    "import numpy as np\n",
    "\n",
    "numbers=[45, 60, 1, 30, 96, 1, 96, 57, 16, 1,\n",
    "        99, 62, 86, 43, 42, 60, 59, 1, 1, 35,\n",
    "        83, 47, 34, 28, 68, 23, 22, 92, 1, 79,\n",
    "        1, 29, 94, 72, 46, 47, 1, 74, 32, 20,\n",
    "        8, 37, 35, 1, 89, 29, 86, 19, 43, 61] \n",
    "\n",
    "numbers_array = np.array(numbers)  \n",
    "print(sum(numbers_array == 1))               "
   ]
  },
  {
   "cell_type": "markdown",
   "id": "2970a292",
   "metadata": {},
   "source": [
    "# Exercise 5"
   ]
  },
  {
   "cell_type": "code",
   "execution_count": 8,
   "id": "fd9eef39",
   "metadata": {},
   "outputs": [
    {
     "name": "stdout",
     "output_type": "stream",
     "text": [
      "The mean of x_1 is 38.5 and the mean of x_2 is 302.5\n",
      "\n",
      "The standard deviation of x_1 and x_2 is 32.41990129534635 and 326.0893282522444 respectively.\n",
      "\n",
      "The Pearson correlation coefficient without using np.corrcoef() is 0.9871796626270701.\n",
      "The output of np.corrcoef() is [[1.         0.98717966]\n",
      " [0.98717966 1.        ]]\n",
      "The comparison between these two is as follows:\n",
      "True\n"
     ]
    }
   ],
   "source": [
    "import numpy as np\n",
    "\n",
    "x_1 = [1, 4, 9, 16, 25, 36, 49, 64, 81, 100]\n",
    "x_2 = [1, 8, 27, 64, 125, 216, 343, 512, 729, 1000]\n",
    "\n",
    "mean_x_1 = np.mean(x_1)\n",
    "mean_x_2 = np.mean(x_2)\n",
    "\n",
    "std_x_1 = np.std(x_1)\n",
    "std_x_2 = np.std(x_2)\n",
    "\n",
    "num_elements = len(x_1)\n",
    "array_x_1 = np.array(x_1)\n",
    "array_x_2 = np.array(x_2)\n",
    "coeff = (np.sum((array_x_1 - array_x_1.mean())*(array_x_2 - array_x_2.mean())))/(std_x_1 * std_x_2 * num_elements)\n",
    "\n",
    "\n",
    "\n",
    "print(f\"The mean of x_1 is {mean_x_1} and the mean of x_2 is {mean_x_2}\\n\")\n",
    "print(f\"The standard deviation of x_1 and x_2 is {std_x_1} and {std_x_2} respectively.\\n\")\n",
    "\n",
    "\n",
    "print(f\"The Pearson correlation coefficient without using np.corrcoef() is {coeff}.\")\n",
    "print(f\"The output of np.corrcoef() is {np.corrcoef(x_1, x_2)}\")\n",
    "print(\"The comparison between these two is as follows:\")\n",
    "print(np.isclose(coeff, np.corrcoef(x_1, x_2)[0][1]))\n"
   ]
  }
 ],
 "metadata": {
  "kernelspec": {
   "display_name": "base",
   "language": "python",
   "name": "python3"
  },
  "language_info": {
   "codemirror_mode": {
    "name": "ipython",
    "version": 3
   },
   "file_extension": ".py",
   "mimetype": "text/x-python",
   "name": "python",
   "nbconvert_exporter": "python",
   "pygments_lexer": "ipython3",
   "version": "3.13.5"
  },
  "toc": {
   "base_numbering": 1,
   "nav_menu": {},
   "number_sections": true,
   "sideBar": true,
   "skip_h1_title": false,
   "title_cell": "Table of Contents",
   "title_sidebar": "Contents",
   "toc_cell": false,
   "toc_position": {},
   "toc_section_display": true,
   "toc_window_display": false
  }
 },
 "nbformat": 4,
 "nbformat_minor": 5
}
