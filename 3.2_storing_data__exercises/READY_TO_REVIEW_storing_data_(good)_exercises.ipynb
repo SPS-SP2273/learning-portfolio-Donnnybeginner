{
 "cells": [
  {
   "attachments": {},
   "cell_type": "markdown",
   "id": "123456",
   "metadata": {},
   "source": [
    "<div style=\"text-align:left;font-size:2em\"><span style=\"font-weight:bolder;font-size:1.25em\">SP2273 | Learning Portfolio</span><br><br><span style=\"font-weight:bold;color:darkred\">Storing Data (Good) Exercises</span></div>"
   ]
  },
  {
   "cell_type": "markdown",
   "id": "4f4e12e3",
   "metadata": {},
   "source": [
    "# Exercise 1\n",
    "\n",
    "1. Subsetting refers to selecting something from a list or array.\n",
    "1. Indexing means to select one element from a list or array.\n",
    "1. Slicing means to select a range of elements in a list or array.\n",
    "1. Masking is used to return a collection of elements from an array that meets the condition of the mask. The syntax is as follows: array[mask]"
   ]
  },
  {
   "cell_type": "markdown",
   "id": "6a3ebe2e",
   "metadata": {},
   "source": [
    "# Exercise 2"
   ]
  },
  {
   "cell_type": "code",
   "execution_count": null,
   "id": "815c2b32",
   "metadata": {},
   "outputs": [
    {
     "name": "stdout",
     "output_type": "stream",
     "text": [
      "['A' 'C' 'E' 'G' 'I']\n",
      "[['1' 'A']\n",
      " ['3' 'C']\n",
      " ['2' 'B']\n",
      " ['4' 'D']\n",
      " ['5' 'E']\n",
      " ['7' 'G']\n",
      " ['6' 'F']\n",
      " ['8' 'H']\n",
      " ['10' 'J']\n",
      " ['9' 'I']]\n"
     ]
    }
   ],
   "source": [
    "import numpy as np\n",
    "\n",
    "np_array_2d = np.array([[1, \"A\"], [3, \"C\"], [2, \"B\"], [4, \"D\"],\n",
    "                        [5, \"E\"], [7, \"G\"], [6, \"F\"], [8, \"H\"],\n",
    "                        [10, \"J\"], [9, \"I\"]])\n",
    "\n",
    "numbers_only_array = np_array_2d[:, 0].astype(int) #isolate the first element of each array in np_array_2d, which are the numbers. Then, convert them to type integer from type string\n",
    "mask = (numbers_only_array % 2) == 1 #create a mask for numbers that give a remainder of 1 when divided by 2(odd numbers)\n",
    "letters_of_odd_num = np_array_2d[mask][:, 1]\n",
    "print(letters_of_odd_num)\n"
   ]
  },
  {
   "cell_type": "markdown",
   "id": "26bcdd19",
   "metadata": {},
   "source": [
    "# Exercise 3"
   ]
  },
  {
   "cell_type": "code",
   "execution_count": 21,
   "id": "0f6f9ae1",
   "metadata": {},
   "outputs": [
    {
     "name": "stdout",
     "output_type": "stream",
     "text": [
      "[[ 1  0  1 -1 -1]\n",
      " [ 1 -1  1 -1 -1]\n",
      " [ 1 -1 -1  1 -1]\n",
      " [-1  1  1 -1 -1]\n",
      " [ 1 -1  1 -1  1]]\n"
     ]
    }
   ],
   "source": [
    "import numpy as np\n",
    "\n",
    "array_2d = np.array([[66, 50, 57, -1, -1],\n",
    " [92, -1, 88, -1, -1],\n",
    " [75, -1, -1, 76, -1],\n",
    " [-1, 51, 87, -1, -1],\n",
    " [71, -1, 67, -1, 69]])\n",
    "\n",
    "mask_below_50 = (array_2d < 50) * -1 #boolean values can be stored as 1 and 0. all value below 50 will have value of 1 in the mask\n",
    "mask_above_50 = (array_2d > 50) #all values above 50 will be stored as 1\n",
    "mask_equal_50 = array_2d * 0\n",
    "result = mask_below_50 + mask_above_50 + mask_equal_50\n",
    "print(result)\n",
    "\n",
    "#compare then assign values"
   ]
  },
  {
   "cell_type": "code",
   "execution_count": 22,
   "id": "2779759b",
   "metadata": {},
   "outputs": [
    {
     "name": "stdout",
     "output_type": "stream",
     "text": [
      "[[ 1  0  1 -1 -1]\n",
      " [ 1 -1  1 -1 -1]\n",
      " [ 1 -1 -1  1 -1]\n",
      " [-1  1  1 -1 -1]\n",
      " [ 1 -1  1 -1  1]]\n"
     ]
    }
   ],
   "source": [
    "import numpy as np\n",
    "\n",
    "array_2d = np.array([[66, 50, 57, -1, -1],\n",
    " [92, -1, 88, -1, -1],\n",
    " [75, -1, -1, 76, -1],\n",
    " [-1, 51, 87, -1, -1],\n",
    " [71, -1, 67, -1, 69]])\n",
    "\n",
    "array_2d[array_2d < 50] = -1 #Do this step first because if I convert numbers above 50 to 1 first then they will count as <50 later and be converted to -1\n",
    "array_2d[array_2d > 50] = 1\n",
    "array_2d[array_2d == 50] = 0\n",
    "print(array_2d)"
   ]
  }
 ],
 "metadata": {
  "kernelspec": {
   "display_name": "base",
   "language": "python",
   "name": "python3"
  },
  "language_info": {
   "codemirror_mode": {
    "name": "ipython",
    "version": 3
   },
   "file_extension": ".py",
   "mimetype": "text/x-python",
   "name": "python",
   "nbconvert_exporter": "python",
   "pygments_lexer": "ipython3",
   "version": "3.13.5"
  },
  "toc": {
   "base_numbering": 1,
   "nav_menu": {},
   "number_sections": true,
   "sideBar": true,
   "skip_h1_title": false,
   "title_cell": "Table of Contents",
   "title_sidebar": "Contents",
   "toc_cell": false,
   "toc_position": {},
   "toc_section_display": true,
   "toc_window_display": false
  }
 },
 "nbformat": 4,
 "nbformat_minor": 5
}
