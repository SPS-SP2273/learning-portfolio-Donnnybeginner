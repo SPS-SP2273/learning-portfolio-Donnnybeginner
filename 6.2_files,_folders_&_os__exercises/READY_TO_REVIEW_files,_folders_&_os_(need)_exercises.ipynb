{
 "cells": [
  {
   "attachments": {},
   "cell_type": "markdown",
   "id": "123456",
   "metadata": {},
   "source": [
    "<div style=\"text-align:left;font-size:2em\"><span style=\"font-weight:bolder;font-size:1.25em\">SP2273 | Learning Portfolio</span><br><br><span style=\"font-weight:bold;color:darkred\">Files, Folders & OS (Need) Exercises</span></div>"
   ]
  },
  {
   "cell_type": "markdown",
   "id": "e2f9aee9",
   "metadata": {},
   "source": [
    "# Task 1"
   ]
  },
  {
   "cell_type": "code",
   "execution_count": 6,
   "id": "5fe48b09",
   "metadata": {},
   "outputs": [
    {
     "name": "stdout",
     "output_type": "stream",
     "text": [
      "10-08-singapore.txt\n"
     ]
    }
   ],
   "source": [
    "dict_month = {\n",
    "'jan': '01', 'feb': '02', 'mar': '03',\n",
    "'apr': '04', 'may': '05', 'jun': '06',\n",
    "'jul': '07', 'aug': '08', 'sep': '09',\n",
    "'oct': '10', 'nov': '11', 'dec': '12'\n",
    "}\n",
    "filename = \"oct-08_singapore.txt\"\n",
    "month = filename.split(\"-\")[0]\n",
    "day = filename.split(\"-\")[1][:2]\n",
    "month_num = dict_month[month]\n",
    "city_and_extension = filename.split(\"-\")[1][3:]\n",
    "print(f\"{month_num}-{day}-{city_and_extension}\")"
   ]
  },
  {
   "cell_type": "markdown",
   "id": "91594cef",
   "metadata": {},
   "source": [
    "# Task 2"
   ]
  },
  {
   "cell_type": "code",
   "execution_count": 7,
   "id": "03fdaf1e",
   "metadata": {},
   "outputs": [],
   "source": [
    "def rename_my_file(old_file_name):\n",
    "    dict_month = {\n",
    "    'jan': '01', 'feb': '02', 'mar': '03',\n",
    "    'apr': '04', 'may': '05', 'jun': '06',\n",
    "    'jul': '07', 'aug': '08', 'sep': '09',\n",
    "    'oct': '10', 'nov': '11', 'dec': '12'\n",
    "    }\n",
    "    month = old_file_name.split(\"-\")[0]\n",
    "    day = old_file_name.split(\"-\")[1][:2]\n",
    "    month_num = dict_month[month]\n",
    "    city_and_extension = old_file_name.split(\"-\")[1][3:]\n",
    "    return f\"{month_num}-{day}-{city_and_extension}\""
   ]
  },
  {
   "cell_type": "markdown",
   "id": "ba97d1f9",
   "metadata": {},
   "source": [
    "# Task 3"
   ]
  },
  {
   "cell_type": "code",
   "execution_count": 8,
   "id": "5a5a11ef",
   "metadata": {},
   "outputs": [
    {
     "name": "stdout",
     "output_type": "stream",
     "text": [
      "oct-08_singapore.txt ----> 10-08-singapore.txt\n",
      "jul-10_cairo.txt ----> 07-10-cairo.txt\n",
      "may-15_dhaka.txt ----> 05-15-dhaka.txt\n",
      "may-13_cairo.txt ----> 05-13-cairo.txt\n",
      "oct-21_cairo.txt ----> 10-21-cairo.txt\n",
      "jan-10_singapore.txt ----> 01-10-singapore.txt\n",
      "jun-20_tokyo.txt ----> 06-20-tokyo.txt\n",
      "aug-06_jakarta.txt ----> 08-06-jakarta.txt\n",
      "dec-21_karachi.txt ----> 12-21-karachi.txt\n",
      "jan-01_tokyo.txt ----> 01-01-tokyo.txt\n"
     ]
    }
   ],
   "source": [
    "filenames = ['oct-08_singapore.txt', 'jul-10_cairo.txt', 'may-15_dhaka.txt',\n",
    "'may-13_cairo.txt', 'oct-21_cairo.txt', 'jan-10_singapore.txt',\n",
    "'jun-20_tokyo.txt', 'aug-06_jakarta.txt', 'dec-21_karachi.txt',\n",
    "'jan-01_tokyo.txt']\n",
    "for filename in filenames:\n",
    "    new_file_name = rename_my_file(filename)\n",
    "    print(f\"{filename} ----> {new_file_name}\")"
   ]
  },
  {
   "cell_type": "markdown",
   "id": "f7847170",
   "metadata": {},
   "source": [
    "# Task 4"
   ]
  },
  {
   "cell_type": "code",
   "execution_count": 9,
   "id": "a1a74cef",
   "metadata": {},
   "outputs": [
    {
     "ename": "KeyError",
     "evalue": "'07'",
     "output_type": "error",
     "traceback": [
      "\u001b[31m---------------------------------------------------------------------------\u001b[39m",
      "\u001b[31mKeyError\u001b[39m                                  Traceback (most recent call last)",
      "\u001b[36mCell\u001b[39m\u001b[36m \u001b[39m\u001b[32mIn[9]\u001b[39m\u001b[32m, line 21\u001b[39m\n\u001b[32m     18\u001b[39m \u001b[38;5;28;01mfor\u001b[39;00m old_full_filename \u001b[38;5;129;01min\u001b[39;00m glob.glob(\u001b[33m'\u001b[39m\u001b[33mos-collaboration-exercise-data/*.txt\u001b[39m\u001b[33m'\u001b[39m):\n\u001b[32m     19\u001b[39m     \u001b[38;5;66;03m#if '_' in old_full_filename: check every single character if there is a _\u001b[39;00m\n\u001b[32m     20\u001b[39m     directory, filename = old_full_filename.split(\u001b[33m'\u001b[39m\u001b[33m/\u001b[39m\u001b[33m'\u001b[39m)\n\u001b[32m---> \u001b[39m\u001b[32m21\u001b[39m     new_filename = \u001b[43mrename_my_file\u001b[49m\u001b[43m(\u001b[49m\u001b[43mfilename\u001b[49m\u001b[43m)\u001b[49m\n\u001b[32m     22\u001b[39m     new_full_filename = os.path.join(directory, new_filename)\n\u001b[32m     23\u001b[39m     \u001b[38;5;28;01mif\u001b[39;00m \u001b[38;5;129;01mnot\u001b[39;00m os.path.exists(new_full_filename):\n",
      "\u001b[36mCell\u001b[39m\u001b[36m \u001b[39m\u001b[32mIn[9]\u001b[39m\u001b[32m, line 13\u001b[39m, in \u001b[36mrename_my_file\u001b[39m\u001b[34m(old_file_name)\u001b[39m\n\u001b[32m     11\u001b[39m month = old_file_name.split(\u001b[33m\"\u001b[39m\u001b[33m-\u001b[39m\u001b[33m\"\u001b[39m)[\u001b[32m0\u001b[39m]\n\u001b[32m     12\u001b[39m day = old_file_name.split(\u001b[33m\"\u001b[39m\u001b[33m-\u001b[39m\u001b[33m\"\u001b[39m)[\u001b[32m1\u001b[39m][:\u001b[32m2\u001b[39m]\n\u001b[32m---> \u001b[39m\u001b[32m13\u001b[39m month_num = \u001b[43mdict_month\u001b[49m\u001b[43m[\u001b[49m\u001b[43mmonth\u001b[49m\u001b[43m]\u001b[49m\n\u001b[32m     14\u001b[39m city_and_extension = old_file_name.split(\u001b[33m\"\u001b[39m\u001b[33m-\u001b[39m\u001b[33m\"\u001b[39m)[\u001b[32m1\u001b[39m][\u001b[32m3\u001b[39m:]\n\u001b[32m     15\u001b[39m \u001b[38;5;28;01mreturn\u001b[39;00m \u001b[33mf\u001b[39m\u001b[33m\"\u001b[39m\u001b[38;5;132;01m{\u001b[39;00mmonth_num\u001b[38;5;132;01m}\u001b[39;00m\u001b[33m-\u001b[39m\u001b[38;5;132;01m{\u001b[39;00mday\u001b[38;5;132;01m}\u001b[39;00m\u001b[33m-\u001b[39m\u001b[38;5;132;01m{\u001b[39;00mcity_and_extension\u001b[38;5;132;01m}\u001b[39;00m\u001b[33m\"\u001b[39m\n",
      "\u001b[31mKeyError\u001b[39m: '07'"
     ]
    }
   ],
   "source": [
    "import os \n",
    "import glob\n",
    "\n",
    "def rename_my_file(old_file_name):\n",
    "    dict_month = {\n",
    "    'jan': '01', 'feb': '02', 'mar': '03',\n",
    "    'apr': '04', 'may': '05', 'jun': '06',\n",
    "    'jul': '07', 'aug': '08', 'sep': '09',\n",
    "    'oct': '10', 'nov': '11', 'dec': '12'\n",
    "    }\n",
    "    month = old_file_name.split(\"-\")[0]\n",
    "    day = old_file_name.split(\"-\")[1][:2]\n",
    "    month_num = dict_month[month]\n",
    "    city_and_extension = old_file_name.split(\"-\")[1][3:]\n",
    "    return f\"{month_num}-{day}-{city_and_extension}\"\n",
    "\n",
    "\n",
    "for old_full_filename in glob.glob('os-collaboration-exercise-data/*.txt'):\n",
    "    #if '_' in old_full_filename: check every single character if there is a _\n",
    "    directory, filename = old_full_filename.split('/')\n",
    "    new_filename = rename_my_file(filename)\n",
    "    new_full_filename = os.path.join(directory, new_filename)\n",
    "    if not os.path.exists(new_full_filename):\n",
    "        os.rename(old_full_filename, new_full_filename)\n"
   ]
  },
  {
   "cell_type": "markdown",
   "id": "428ff80f",
   "metadata": {},
   "source": [
    "# Task 5"
   ]
  },
  {
   "cell_type": "code",
   "execution_count": 10,
   "id": "9d220f20",
   "metadata": {},
   "outputs": [],
   "source": [
    "cities = ['Cairo', 'Dhaka', 'Jakarta', 'Karachi', 'Manila', 'Melbourne', 'Osaka', 'Shanghai', 'Singapore', 'Tokyo']\n",
    "for city in cities:\n",
    "    os.mkdir(city)"
   ]
  },
  {
   "cell_type": "markdown",
   "id": "89d94e67",
   "metadata": {},
   "source": [
    "# Task 6"
   ]
  },
  {
   "cell_type": "code",
   "execution_count": 17,
   "id": "c709c0da",
   "metadata": {},
   "outputs": [],
   "source": [
    "import shutil\n",
    "for cairo_file in glob.glob('os-collaboration-exercise-data/*cairo*'):\n",
    "    shutil.copy(cairo_file, 'Cairo')"
   ]
  },
  {
   "cell_type": "markdown",
   "id": "703bea9f",
   "metadata": {},
   "source": [
    "# Task 7"
   ]
  },
  {
   "cell_type": "code",
   "execution_count": 18,
   "id": "2b7bdeca",
   "metadata": {},
   "outputs": [],
   "source": [
    "for city in cities[1:]:\n",
    "    for city_file in glob.glob(f'os-collaboration-exercise-data/*{city.lower()}*'):\n",
    "        shutil.copy(city_file, city)"
   ]
  }
 ],
 "metadata": {
  "kernelspec": {
   "display_name": "base",
   "language": "python",
   "name": "python3"
  },
  "language_info": {
   "codemirror_mode": {
    "name": "ipython",
    "version": 3
   },
   "file_extension": ".py",
   "mimetype": "text/x-python",
   "name": "python",
   "nbconvert_exporter": "python",
   "pygments_lexer": "ipython3",
   "version": "3.13.5"
  },
  "toc": {
   "base_numbering": 1,
   "nav_menu": {},
   "number_sections": true,
   "sideBar": true,
   "skip_h1_title": false,
   "title_cell": "Table of Contents",
   "title_sidebar": "Contents",
   "toc_cell": false,
   "toc_position": {},
   "toc_section_display": true,
   "toc_window_display": false
  }
 },
 "nbformat": 4,
 "nbformat_minor": 5
}
